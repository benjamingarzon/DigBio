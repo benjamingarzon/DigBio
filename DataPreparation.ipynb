{
 "cells": [
  {
   "cell_type": "markdown",
   "id": "93bf6484",
   "metadata": {},
   "source": [
    "# Data preparation"
   ]
  },
  {
   "cell_type": "markdown",
   "id": "247b4513",
   "metadata": {},
   "source": [
    "Imports and definitions"
   ]
  },
  {
   "cell_type": "code",
   "execution_count": 1,
   "id": "99821972",
   "metadata": {},
   "outputs": [
    {
     "name": "stdout",
     "output_type": "stream",
     "text": [
      "C:\\Users\\Garzon\\Documents\\Projects\\DigBio\\data\\sleep_data\n"
     ]
    }
   ],
   "source": [
    "import pandas as pd\n",
    "import numpy as np\n",
    "import glob, os\n",
    "from datetime import timedelta\n",
    "import matplotlib.pyplot as plt\n",
    "import statsmodels.api as sm\n",
    "\n",
    "plt.rcParams['figure.figsize'] = [40, 20]\n",
    "plt.rcParams['figure.dpi']\n",
    "\n",
    "#from src.utils import read_sleep_file\n",
    "PWD = os.getcwd()\n",
    "DATA_DIR = 'data'\n",
    "FILE_TYPE = '*' #'ENHANCED_TENTATIVE'\n",
    "FILES_DIR = os.path.join(PWD, DATA_DIR, 'sleep_data')\n",
    "print(FILES_DIR)\n",
    "SLEEP_DATA_COLS = ['calendar_date', 'local_start_time', 'local_end_time', \n",
    "                      'duration_in_seconds', 'awake_time', 'deep_sleep_time', \n",
    "                      'rem_sleep_time'] \n",
    "DATE_COLS = ['calendar_date', 'local_start_time', 'local_end_time']\n",
    "\n",
    "OUTPUT_FILE = os.path.join(PWD, 'out', 'sleep_out_.csv')"
   ]
  },
  {
   "cell_type": "code",
   "execution_count": 2,
   "id": "68405403",
   "metadata": {},
   "outputs": [],
   "source": [
    "\n",
    "def index_logic(index):\n",
    "    if index not in [5, 6]:\n",
    "        return True\n",
    "    return False\n",
    "\n",
    "def read_sleep_file(filename):\n",
    "    ff = pd.read_csv(filename, skiprows= lambda x: index_logic(x), delimiter=',')\n",
    "    return ff\n"
   ]
  },
  {
   "cell_type": "markdown",
   "id": "dd0c87c6",
   "metadata": {},
   "source": [
    "Read files"
   ]
  },
  {
   "cell_type": "code",
   "execution_count": 3,
   "id": "590e3aba",
   "metadata": {},
   "outputs": [
    {
     "name": "stdout",
     "output_type": "stream",
     "text": [
      "(43, 7)\n",
      "  calendar_date     local_start_time       local_end_time  \\\n",
      "0    2022-04-06  2022-04-05 23:22:00  2022-04-06 06:29:00   \n",
      "0    2022-04-07  2022-04-06 22:14:00  2022-04-07 07:33:00   \n",
      "0    2022-04-08  2022-04-08 03:31:00  2022-04-08 08:48:00   \n",
      "0    2022-04-09  2022-04-08 22:33:00  2022-04-09 07:23:00   \n",
      "0    2022-04-10  2022-04-09 23:31:00  2022-04-10 06:44:00   \n",
      "\n",
      "   duration_in_seconds  awake_time  deep_sleep_time  rem_sleep_time  \n",
      "0                25620          60             3780            7380  \n",
      "0                33540           0             4200            6660  \n",
      "0                19020         300             4800            4440  \n",
      "0                31800         120             5040            7380  \n",
      "0                25980         420             4140            6180  \n",
      "calendar_date          object\n",
      "local_start_time       object\n",
      "local_end_time         object\n",
      "duration_in_seconds     int64\n",
      "awake_time              int64\n",
      "deep_sleep_time         int64\n",
      "rem_sleep_time          int64\n",
      "dtype: object\n"
     ]
    }
   ],
   "source": [
    "os.chdir(FILES_DIR)\n",
    "\n",
    "files = glob.glob(f'*{FILE_TYPE}*.csv')\n",
    "#print(files)\n",
    "\n",
    "sleep_data = pd.concat([ read_sleep_file(file) for file in files] )\n",
    "\n",
    "sleep_data = sleep_data[SLEEP_DATA_COLS]\n",
    "print(sleep_data.shape)\n",
    "print(sleep_data.head())\n",
    "\n",
    "print(sleep_data.dtypes)"
   ]
  },
  {
   "cell_type": "markdown",
   "id": "44658831",
   "metadata": {},
   "source": [
    "Create new variables"
   ]
  },
  {
   "cell_type": "code",
   "execution_count": 4,
   "id": "d139f457",
   "metadata": {},
   "outputs": [
    {
     "name": "stdout",
     "output_type": "stream",
     "text": [
      "  calendar_date    local_start_time      local_end_time  duration_in_seconds  \\\n",
      "0    2022-04-05 2022-04-05 23:22:00 2022-04-06 06:29:00                25620   \n",
      "0    2022-04-06 2022-04-06 22:14:00 2022-04-07 07:33:00                33540   \n",
      "0    2022-04-07 2022-04-08 03:31:00 2022-04-08 08:48:00                19020   \n",
      "0    2022-04-08 2022-04-08 22:33:00 2022-04-09 07:23:00                31800   \n",
      "0    2022-04-09 2022-04-09 23:31:00 2022-04-10 06:44:00                25980   \n",
      "\n",
      "   awake_time  deep_sleep_time  rem_sleep_time  total_sleep_hours  \\\n",
      "0          60             3780            7380           7.116667   \n",
      "0           0             4200            6660           9.316667   \n",
      "0         300             4800            4440           5.283333   \n",
      "0         120             5040            7380           8.833333   \n",
      "0         420             4140            6180           7.216667   \n",
      "\n",
      "   deep_sleep_percentage  rem_sleep_percentage  awake_percentage  \\\n",
      "0               0.147541              0.288056          0.002342   \n",
      "0               0.125224              0.198569          0.000000   \n",
      "0               0.252366              0.233438          0.015773   \n",
      "0               0.158491              0.232075          0.003774   \n",
      "0               0.159353              0.237875          0.016166   \n",
      "\n",
      "   local_start_time_seconds  local_end_time_seconds  total_sleep_hours_round  \n",
      "0              1.649201e+09            1.649226e+09                      7.0  \n",
      "0              1.649283e+09            1.649317e+09                      9.0  \n",
      "0              1.649389e+09            1.649407e+09                      5.0  \n",
      "0              1.649457e+09            1.649489e+09                      8.0  \n",
      "0              1.649547e+09            1.649573e+09                      7.0  \n"
     ]
    },
    {
     "ename": "PermissionError",
     "evalue": "[Errno 13] Permission denied: 'C:\\\\Users\\\\Garzon\\\\Documents\\\\Projects\\\\DigBio\\\\out\\\\sleep_out_.csv'",
     "output_type": "error",
     "traceback": [
      "\u001b[1;31m---------------------------------------------------------------------------\u001b[0m",
      "\u001b[1;31mPermissionError\u001b[0m                           Traceback (most recent call last)",
      "Input \u001b[1;32mIn [4]\u001b[0m, in \u001b[0;36m<cell line: 17>\u001b[1;34m()\u001b[0m\n\u001b[0;32m     13\u001b[0m \u001b[38;5;28mprint\u001b[39m(sleep_data\u001b[38;5;241m.\u001b[39mhead())\n\u001b[0;32m     15\u001b[0m sleep_data \u001b[38;5;241m=\u001b[39m sleep_data\u001b[38;5;241m.\u001b[39msort_values(by\u001b[38;5;241m=\u001b[39m[\u001b[38;5;124m'\u001b[39m\u001b[38;5;124mcalendar_date\u001b[39m\u001b[38;5;124m'\u001b[39m])\n\u001b[1;32m---> 17\u001b[0m \u001b[43msleep_data\u001b[49m\u001b[38;5;241;43m.\u001b[39;49m\u001b[43mto_csv\u001b[49m\u001b[43m(\u001b[49m\u001b[43mOUTPUT_FILE\u001b[49m\u001b[43m,\u001b[49m\u001b[43m \u001b[49m\u001b[43msep\u001b[49m\u001b[43m \u001b[49m\u001b[38;5;241;43m=\u001b[39;49m\u001b[38;5;124;43m'\u001b[39;49m\u001b[38;5;124;43m;\u001b[39;49m\u001b[38;5;124;43m'\u001b[39;49m\u001b[43m)\u001b[49m\n",
      "File \u001b[1;32m~\\anaconda3\\envs\\digbio\\lib\\site-packages\\pandas\\core\\generic.py:3551\u001b[0m, in \u001b[0;36mNDFrame.to_csv\u001b[1;34m(self, path_or_buf, sep, na_rep, float_format, columns, header, index, index_label, mode, encoding, compression, quoting, quotechar, line_terminator, chunksize, date_format, doublequote, escapechar, decimal, errors, storage_options)\u001b[0m\n\u001b[0;32m   3540\u001b[0m df \u001b[38;5;241m=\u001b[39m \u001b[38;5;28mself\u001b[39m \u001b[38;5;28;01mif\u001b[39;00m \u001b[38;5;28misinstance\u001b[39m(\u001b[38;5;28mself\u001b[39m, ABCDataFrame) \u001b[38;5;28;01melse\u001b[39;00m \u001b[38;5;28mself\u001b[39m\u001b[38;5;241m.\u001b[39mto_frame()\n\u001b[0;32m   3542\u001b[0m formatter \u001b[38;5;241m=\u001b[39m DataFrameFormatter(\n\u001b[0;32m   3543\u001b[0m     frame\u001b[38;5;241m=\u001b[39mdf,\n\u001b[0;32m   3544\u001b[0m     header\u001b[38;5;241m=\u001b[39mheader,\n\u001b[1;32m   (...)\u001b[0m\n\u001b[0;32m   3548\u001b[0m     decimal\u001b[38;5;241m=\u001b[39mdecimal,\n\u001b[0;32m   3549\u001b[0m )\n\u001b[1;32m-> 3551\u001b[0m \u001b[38;5;28;01mreturn\u001b[39;00m \u001b[43mDataFrameRenderer\u001b[49m\u001b[43m(\u001b[49m\u001b[43mformatter\u001b[49m\u001b[43m)\u001b[49m\u001b[38;5;241;43m.\u001b[39;49m\u001b[43mto_csv\u001b[49m\u001b[43m(\u001b[49m\n\u001b[0;32m   3552\u001b[0m \u001b[43m    \u001b[49m\u001b[43mpath_or_buf\u001b[49m\u001b[43m,\u001b[49m\n\u001b[0;32m   3553\u001b[0m \u001b[43m    \u001b[49m\u001b[43mline_terminator\u001b[49m\u001b[38;5;241;43m=\u001b[39;49m\u001b[43mline_terminator\u001b[49m\u001b[43m,\u001b[49m\n\u001b[0;32m   3554\u001b[0m \u001b[43m    \u001b[49m\u001b[43msep\u001b[49m\u001b[38;5;241;43m=\u001b[39;49m\u001b[43msep\u001b[49m\u001b[43m,\u001b[49m\n\u001b[0;32m   3555\u001b[0m \u001b[43m    \u001b[49m\u001b[43mencoding\u001b[49m\u001b[38;5;241;43m=\u001b[39;49m\u001b[43mencoding\u001b[49m\u001b[43m,\u001b[49m\n\u001b[0;32m   3556\u001b[0m \u001b[43m    \u001b[49m\u001b[43merrors\u001b[49m\u001b[38;5;241;43m=\u001b[39;49m\u001b[43merrors\u001b[49m\u001b[43m,\u001b[49m\n\u001b[0;32m   3557\u001b[0m \u001b[43m    \u001b[49m\u001b[43mcompression\u001b[49m\u001b[38;5;241;43m=\u001b[39;49m\u001b[43mcompression\u001b[49m\u001b[43m,\u001b[49m\n\u001b[0;32m   3558\u001b[0m \u001b[43m    \u001b[49m\u001b[43mquoting\u001b[49m\u001b[38;5;241;43m=\u001b[39;49m\u001b[43mquoting\u001b[49m\u001b[43m,\u001b[49m\n\u001b[0;32m   3559\u001b[0m \u001b[43m    \u001b[49m\u001b[43mcolumns\u001b[49m\u001b[38;5;241;43m=\u001b[39;49m\u001b[43mcolumns\u001b[49m\u001b[43m,\u001b[49m\n\u001b[0;32m   3560\u001b[0m \u001b[43m    \u001b[49m\u001b[43mindex_label\u001b[49m\u001b[38;5;241;43m=\u001b[39;49m\u001b[43mindex_label\u001b[49m\u001b[43m,\u001b[49m\n\u001b[0;32m   3561\u001b[0m \u001b[43m    \u001b[49m\u001b[43mmode\u001b[49m\u001b[38;5;241;43m=\u001b[39;49m\u001b[43mmode\u001b[49m\u001b[43m,\u001b[49m\n\u001b[0;32m   3562\u001b[0m \u001b[43m    \u001b[49m\u001b[43mchunksize\u001b[49m\u001b[38;5;241;43m=\u001b[39;49m\u001b[43mchunksize\u001b[49m\u001b[43m,\u001b[49m\n\u001b[0;32m   3563\u001b[0m \u001b[43m    \u001b[49m\u001b[43mquotechar\u001b[49m\u001b[38;5;241;43m=\u001b[39;49m\u001b[43mquotechar\u001b[49m\u001b[43m,\u001b[49m\n\u001b[0;32m   3564\u001b[0m \u001b[43m    \u001b[49m\u001b[43mdate_format\u001b[49m\u001b[38;5;241;43m=\u001b[39;49m\u001b[43mdate_format\u001b[49m\u001b[43m,\u001b[49m\n\u001b[0;32m   3565\u001b[0m \u001b[43m    \u001b[49m\u001b[43mdoublequote\u001b[49m\u001b[38;5;241;43m=\u001b[39;49m\u001b[43mdoublequote\u001b[49m\u001b[43m,\u001b[49m\n\u001b[0;32m   3566\u001b[0m \u001b[43m    \u001b[49m\u001b[43mescapechar\u001b[49m\u001b[38;5;241;43m=\u001b[39;49m\u001b[43mescapechar\u001b[49m\u001b[43m,\u001b[49m\n\u001b[0;32m   3567\u001b[0m \u001b[43m    \u001b[49m\u001b[43mstorage_options\u001b[49m\u001b[38;5;241;43m=\u001b[39;49m\u001b[43mstorage_options\u001b[49m\u001b[43m,\u001b[49m\n\u001b[0;32m   3568\u001b[0m \u001b[43m\u001b[49m\u001b[43m)\u001b[49m\n",
      "File \u001b[1;32m~\\anaconda3\\envs\\digbio\\lib\\site-packages\\pandas\\io\\formats\\format.py:1180\u001b[0m, in \u001b[0;36mDataFrameRenderer.to_csv\u001b[1;34m(self, path_or_buf, encoding, sep, columns, index_label, mode, compression, quoting, quotechar, line_terminator, chunksize, date_format, doublequote, escapechar, errors, storage_options)\u001b[0m\n\u001b[0;32m   1159\u001b[0m     created_buffer \u001b[38;5;241m=\u001b[39m \u001b[38;5;28;01mFalse\u001b[39;00m\n\u001b[0;32m   1161\u001b[0m csv_formatter \u001b[38;5;241m=\u001b[39m CSVFormatter(\n\u001b[0;32m   1162\u001b[0m     path_or_buf\u001b[38;5;241m=\u001b[39mpath_or_buf,\n\u001b[0;32m   1163\u001b[0m     line_terminator\u001b[38;5;241m=\u001b[39mline_terminator,\n\u001b[1;32m   (...)\u001b[0m\n\u001b[0;32m   1178\u001b[0m     formatter\u001b[38;5;241m=\u001b[39m\u001b[38;5;28mself\u001b[39m\u001b[38;5;241m.\u001b[39mfmt,\n\u001b[0;32m   1179\u001b[0m )\n\u001b[1;32m-> 1180\u001b[0m \u001b[43mcsv_formatter\u001b[49m\u001b[38;5;241;43m.\u001b[39;49m\u001b[43msave\u001b[49m\u001b[43m(\u001b[49m\u001b[43m)\u001b[49m\n\u001b[0;32m   1182\u001b[0m \u001b[38;5;28;01mif\u001b[39;00m created_buffer:\n\u001b[0;32m   1183\u001b[0m     \u001b[38;5;28;01massert\u001b[39;00m \u001b[38;5;28misinstance\u001b[39m(path_or_buf, StringIO)\n",
      "File \u001b[1;32m~\\anaconda3\\envs\\digbio\\lib\\site-packages\\pandas\\io\\formats\\csvs.py:241\u001b[0m, in \u001b[0;36mCSVFormatter.save\u001b[1;34m(self)\u001b[0m\n\u001b[0;32m    237\u001b[0m \u001b[38;5;124;03m\"\"\"\u001b[39;00m\n\u001b[0;32m    238\u001b[0m \u001b[38;5;124;03mCreate the writer & save.\u001b[39;00m\n\u001b[0;32m    239\u001b[0m \u001b[38;5;124;03m\"\"\"\u001b[39;00m\n\u001b[0;32m    240\u001b[0m \u001b[38;5;66;03m# apply compression and byte/text conversion\u001b[39;00m\n\u001b[1;32m--> 241\u001b[0m \u001b[38;5;28;01mwith\u001b[39;00m \u001b[43mget_handle\u001b[49m\u001b[43m(\u001b[49m\n\u001b[0;32m    242\u001b[0m \u001b[43m    \u001b[49m\u001b[38;5;28;43mself\u001b[39;49m\u001b[38;5;241;43m.\u001b[39;49m\u001b[43mfilepath_or_buffer\u001b[49m\u001b[43m,\u001b[49m\n\u001b[0;32m    243\u001b[0m \u001b[43m    \u001b[49m\u001b[38;5;28;43mself\u001b[39;49m\u001b[38;5;241;43m.\u001b[39;49m\u001b[43mmode\u001b[49m\u001b[43m,\u001b[49m\n\u001b[0;32m    244\u001b[0m \u001b[43m    \u001b[49m\u001b[43mencoding\u001b[49m\u001b[38;5;241;43m=\u001b[39;49m\u001b[38;5;28;43mself\u001b[39;49m\u001b[38;5;241;43m.\u001b[39;49m\u001b[43mencoding\u001b[49m\u001b[43m,\u001b[49m\n\u001b[0;32m    245\u001b[0m \u001b[43m    \u001b[49m\u001b[43merrors\u001b[49m\u001b[38;5;241;43m=\u001b[39;49m\u001b[38;5;28;43mself\u001b[39;49m\u001b[38;5;241;43m.\u001b[39;49m\u001b[43merrors\u001b[49m\u001b[43m,\u001b[49m\n\u001b[0;32m    246\u001b[0m \u001b[43m    \u001b[49m\u001b[43mcompression\u001b[49m\u001b[38;5;241;43m=\u001b[39;49m\u001b[38;5;28;43mself\u001b[39;49m\u001b[38;5;241;43m.\u001b[39;49m\u001b[43mcompression\u001b[49m\u001b[43m,\u001b[49m\n\u001b[0;32m    247\u001b[0m \u001b[43m    \u001b[49m\u001b[43mstorage_options\u001b[49m\u001b[38;5;241;43m=\u001b[39;49m\u001b[38;5;28;43mself\u001b[39;49m\u001b[38;5;241;43m.\u001b[39;49m\u001b[43mstorage_options\u001b[49m\u001b[43m,\u001b[49m\n\u001b[0;32m    248\u001b[0m \u001b[43m\u001b[49m\u001b[43m)\u001b[49m \u001b[38;5;28;01mas\u001b[39;00m handles:\n\u001b[0;32m    249\u001b[0m \n\u001b[0;32m    250\u001b[0m     \u001b[38;5;66;03m# Note: self.encoding is irrelevant here\u001b[39;00m\n\u001b[0;32m    251\u001b[0m     \u001b[38;5;28mself\u001b[39m\u001b[38;5;241m.\u001b[39mwriter \u001b[38;5;241m=\u001b[39m csvlib\u001b[38;5;241m.\u001b[39mwriter(\n\u001b[0;32m    252\u001b[0m         handles\u001b[38;5;241m.\u001b[39mhandle,\n\u001b[0;32m    253\u001b[0m         lineterminator\u001b[38;5;241m=\u001b[39m\u001b[38;5;28mself\u001b[39m\u001b[38;5;241m.\u001b[39mline_terminator,\n\u001b[1;32m   (...)\u001b[0m\n\u001b[0;32m    258\u001b[0m         quotechar\u001b[38;5;241m=\u001b[39m\u001b[38;5;28mself\u001b[39m\u001b[38;5;241m.\u001b[39mquotechar,\n\u001b[0;32m    259\u001b[0m     )\n\u001b[0;32m    261\u001b[0m     \u001b[38;5;28mself\u001b[39m\u001b[38;5;241m.\u001b[39m_save()\n",
      "File \u001b[1;32m~\\anaconda3\\envs\\digbio\\lib\\site-packages\\pandas\\io\\common.py:786\u001b[0m, in \u001b[0;36mget_handle\u001b[1;34m(path_or_buf, mode, encoding, compression, memory_map, is_text, errors, storage_options)\u001b[0m\n\u001b[0;32m    781\u001b[0m \u001b[38;5;28;01melif\u001b[39;00m \u001b[38;5;28misinstance\u001b[39m(handle, \u001b[38;5;28mstr\u001b[39m):\n\u001b[0;32m    782\u001b[0m     \u001b[38;5;66;03m# Check whether the filename is to be opened in binary mode.\u001b[39;00m\n\u001b[0;32m    783\u001b[0m     \u001b[38;5;66;03m# Binary mode does not support 'encoding' and 'newline'.\u001b[39;00m\n\u001b[0;32m    784\u001b[0m     \u001b[38;5;28;01mif\u001b[39;00m ioargs\u001b[38;5;241m.\u001b[39mencoding \u001b[38;5;129;01mand\u001b[39;00m \u001b[38;5;124m\"\u001b[39m\u001b[38;5;124mb\u001b[39m\u001b[38;5;124m\"\u001b[39m \u001b[38;5;129;01mnot\u001b[39;00m \u001b[38;5;129;01min\u001b[39;00m ioargs\u001b[38;5;241m.\u001b[39mmode:\n\u001b[0;32m    785\u001b[0m         \u001b[38;5;66;03m# Encoding\u001b[39;00m\n\u001b[1;32m--> 786\u001b[0m         handle \u001b[38;5;241m=\u001b[39m \u001b[38;5;28;43mopen\u001b[39;49m\u001b[43m(\u001b[49m\n\u001b[0;32m    787\u001b[0m \u001b[43m            \u001b[49m\u001b[43mhandle\u001b[49m\u001b[43m,\u001b[49m\n\u001b[0;32m    788\u001b[0m \u001b[43m            \u001b[49m\u001b[43mioargs\u001b[49m\u001b[38;5;241;43m.\u001b[39;49m\u001b[43mmode\u001b[49m\u001b[43m,\u001b[49m\n\u001b[0;32m    789\u001b[0m \u001b[43m            \u001b[49m\u001b[43mencoding\u001b[49m\u001b[38;5;241;43m=\u001b[39;49m\u001b[43mioargs\u001b[49m\u001b[38;5;241;43m.\u001b[39;49m\u001b[43mencoding\u001b[49m\u001b[43m,\u001b[49m\n\u001b[0;32m    790\u001b[0m \u001b[43m            \u001b[49m\u001b[43merrors\u001b[49m\u001b[38;5;241;43m=\u001b[39;49m\u001b[43merrors\u001b[49m\u001b[43m,\u001b[49m\n\u001b[0;32m    791\u001b[0m \u001b[43m            \u001b[49m\u001b[43mnewline\u001b[49m\u001b[38;5;241;43m=\u001b[39;49m\u001b[38;5;124;43m\"\u001b[39;49m\u001b[38;5;124;43m\"\u001b[39;49m\u001b[43m,\u001b[49m\n\u001b[0;32m    792\u001b[0m \u001b[43m        \u001b[49m\u001b[43m)\u001b[49m\n\u001b[0;32m    793\u001b[0m     \u001b[38;5;28;01melse\u001b[39;00m:\n\u001b[0;32m    794\u001b[0m         \u001b[38;5;66;03m# Binary mode\u001b[39;00m\n\u001b[0;32m    795\u001b[0m         handle \u001b[38;5;241m=\u001b[39m \u001b[38;5;28mopen\u001b[39m(handle, ioargs\u001b[38;5;241m.\u001b[39mmode)\n",
      "\u001b[1;31mPermissionError\u001b[0m: [Errno 13] Permission denied: 'C:\\\\Users\\\\Garzon\\\\Documents\\\\Projects\\\\DigBio\\\\out\\\\sleep_out_.csv'"
     ]
    }
   ],
   "source": [
    "sleep_data['total_sleep_hours'] = sleep_data['duration_in_seconds']/(60*60)\n",
    "sleep_data['deep_sleep_percentage'] = sleep_data['deep_sleep_time']/sleep_data['duration_in_seconds']\n",
    "sleep_data['rem_sleep_percentage'] = sleep_data['rem_sleep_time']/sleep_data['duration_in_seconds']\n",
    "sleep_data['awake_percentage'] = sleep_data['awake_time']/sleep_data['duration_in_seconds']\n",
    "sleep_data[DATE_COLS] = sleep_data[DATE_COLS].apply(pd.to_datetime, axis=1)\n",
    "sleep_data['calendar_date'] = sleep_data['calendar_date'] - timedelta(days=1)\n",
    "\n",
    "sleep_data['local_start_time_seconds'] = sleep_data['local_start_time'].apply(lambda x: pd.Timestamp(x).timestamp())\n",
    "sleep_data['local_end_time_seconds'] = sleep_data['local_end_time'].apply(lambda x: pd.Timestamp(x).timestamp()) - 200\n",
    "\n",
    "sleep_data['total_sleep_hours_round'] = sleep_data['total_sleep_hours'].apply(np.floor)\n",
    "\n",
    "print(sleep_data.head())\n",
    "\n",
    "sleep_data = sleep_data.sort_values(by=['calendar_date'])\n",
    "\n",
    "sleep_data.to_csv(OUTPUT_FILE, sep =';')"
   ]
  },
  {
   "cell_type": "markdown",
   "id": "570d8a44",
   "metadata": {},
   "source": [
    "Creat a histogram of total hours"
   ]
  },
  {
   "cell_type": "code",
   "execution_count": null,
   "id": "dd4d98e8",
   "metadata": {},
   "outputs": [],
   "source": [
    "sleep_data['total_sleep_hours_round'].hist()"
   ]
  },
  {
   "cell_type": "markdown",
   "id": "b2e4d1d0",
   "metadata": {},
   "source": [
    "Plot sleep hours over time"
   ]
  },
  {
   "cell_type": "code",
   "execution_count": null,
   "id": "8d79f347",
   "metadata": {
    "scrolled": true
   },
   "outputs": [],
   "source": [
    "sleep_data.plot('calendar_date', 'total_sleep_hours')"
   ]
  },
  {
   "cell_type": "markdown",
   "id": "41edfbed",
   "metadata": {},
   "source": [
    "Fit linear regression model"
   ]
  },
  {
   "cell_type": "code",
   "execution_count": null,
   "id": "15bfcd20",
   "metadata": {},
   "outputs": [],
   "source": [
    "x = sleep_data['calendar_date'].apply(lambda x: pd.Timestamp(x).timestamp()).values\n",
    "X = (x - x.mean())/x.std()\n",
    "X = sm.add_constant(X)\n",
    "y = sleep_data['total_sleep_hours'].values\n",
    "\n",
    "mod = sm.OLS(y, X)\n",
    "res = mod.fit()\n",
    "print(res.summary())"
   ]
  },
  {
   "cell_type": "code",
   "execution_count": null,
   "id": "186076bf",
   "metadata": {},
   "outputs": [],
   "source": []
  }
 ],
 "metadata": {
  "kernelspec": {
   "display_name": "Python 3 (ipykernel)",
   "language": "python",
   "name": "python3"
  },
  "language_info": {
   "codemirror_mode": {
    "name": "ipython",
    "version": 3
   },
   "file_extension": ".py",
   "mimetype": "text/x-python",
   "name": "python",
   "nbconvert_exporter": "python",
   "pygments_lexer": "ipython3",
   "version": "3.9.13"
  }
 },
 "nbformat": 4,
 "nbformat_minor": 5
}
